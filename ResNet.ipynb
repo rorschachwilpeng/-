{
 "cells": [
  {
   "cell_type": "markdown",
   "id": "fa984c75",
   "metadata": {},
   "source": [
    "# ResNet"
   ]
  },
  {
   "cell_type": "markdown",
   "id": "ff55e9bd",
   "metadata": {},
   "source": [
    "## 残差块（ResNet Block）"
   ]
  },
  {
   "cell_type": "code",
   "execution_count": 1,
   "id": "b158090e",
   "metadata": {},
   "outputs": [
    {
     "name": "stderr",
     "output_type": "stream",
     "text": [
      "/Users/apple/opt/anaconda3/lib/python3.9/site-packages/scipy/__init__.py:146: UserWarning: A NumPy version >=1.16.5 and <1.23.0 is required for this version of SciPy (detected version 1.23.5\n",
      "  warnings.warn(f\"A NumPy version >={np_minversion} and <{np_maxversion}\"\n"
     ]
    }
   ],
   "source": [
    "import torch\n",
    "from torch import nn\n",
    "from torch.nn import functional as F\n",
    "from d2l import torch as d2l"
   ]
  },
  {
   "cell_type": "markdown",
   "id": "1d7d2f26",
   "metadata": {},
   "source": [
    "- ResNet沿用了VGG全3x3卷积层的设计，残差块里首先有2个有相同输出通道数的3x3卷积层。每个卷积层后接一个批量归一化（Batch Norm）和ReLU激活函数。然后我们将输入跳过这2个卷积运算后直接加在最后的ReLU激活函数前。\n",
    "\n",
    "- 这样的设计要求2个卷积层的输出与输入形状一样，从而可以相加。如果想要改变通道数，就需要引入一个额外的1x1卷积层来将输入变换成需要的形状后再做相加运算。"
   ]
  },
  {
   "cell_type": "code",
   "execution_count": 7,
   "id": "3c00c5b9",
   "metadata": {},
   "outputs": [],
   "source": [
    "class Residual(nn.Module):\n",
    "    def __init__(self, input_channels, num_channels, use_1x1conv=False, strides=1):\n",
    "        ####\n",
    "        #@param\n",
    "        # input_channels:输入通道数\n",
    "        # num_channels:  输出通道数\n",
    "        # use_1x1conv:   是否使用1x1卷积层\n",
    "        # strides:       步幅\n",
    "        ####\n",
    "        super().__init__()\n",
    "        #第一个3x3卷积，输入和输出的通道数相同，也支持通过选择不同的stride（步幅）来调整通道数。如果选择了调整通道数，1x1卷积层中也会做相同变换\n",
    "        self.conv1 = nn.Conv2d(\n",
    "            input_channels, num_channels, kernel_size=3,\n",
    "                            padding=1, stride=strides)\n",
    "        \n",
    "        self.conv2 = nn.Conv2d(\n",
    "            num_channels, num_channels, kernel_size=1, padding=1)\n",
    "        \n",
    "        if use_1x1conv:\n",
    "            #注意这里的“输入通道数”和“输出通道数”，输出通道数为num_channels从而和3x3卷积层的输出结果保持通道数相同 --> 从而能做相加运算\n",
    "            self.conv3 = nn.Conv2d(input_channels, num_channels, kernel_size=1, stride=strides)\n",
    "        else:\n",
    "            self.conv3 = None\n",
    "        \n",
    "        self.bn1 = nn.BatchNorm2d(num_channels)\n",
    "        self.bn2 = nn.BatchNorm2d(num_channels)\n",
    "        self.relu = nn.ReLU(inplace=True)\n",
    "    \n",
    "    def forward(self, X):\n",
    "        Y = F.relu(self.bn1(self.conv1(X)))\n",
    "        Y = self.bn2(self.conv(Y))\n",
    "        if self.conv3:\n",
    "            X = self.conv3(X)\n",
    "        return F.relu(Y + X)"
   ]
  },
  {
   "cell_type": "code",
   "execution_count": null,
   "id": "d69e0a7f",
   "metadata": {},
   "outputs": [],
   "source": []
  }
 ],
 "metadata": {
  "kernelspec": {
   "display_name": "Python 3 (ipykernel)",
   "language": "python",
   "name": "python3"
  },
  "language_info": {
   "codemirror_mode": {
    "name": "ipython",
    "version": 3
   },
   "file_extension": ".py",
   "mimetype": "text/x-python",
   "name": "python",
   "nbconvert_exporter": "python",
   "pygments_lexer": "ipython3",
   "version": "3.9.7"
  },
  "toc": {
   "base_numbering": 1,
   "nav_menu": {},
   "number_sections": true,
   "sideBar": true,
   "skip_h1_title": false,
   "title_cell": "Table of Contents",
   "title_sidebar": "Contents",
   "toc_cell": false,
   "toc_position": {},
   "toc_section_display": true,
   "toc_window_display": false
  }
 },
 "nbformat": 4,
 "nbformat_minor": 5
}
